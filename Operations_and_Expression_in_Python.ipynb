{
  "nbformat": 4,
  "nbformat_minor": 0,
  "metadata": {
    "colab": {
      "name": "Operations and Expression in Python.ipynb",
      "provenance": [],
      "authorship_tag": "ABX9TyM/8egm2LBxwTp1xcMeFd5B",
      "include_colab_link": true
    },
    "kernelspec": {
      "name": "python3",
      "display_name": "Python 3"
    },
    "language_info": {
      "name": "python"
    }
  },
  "cells": [
    {
      "cell_type": "markdown",
      "metadata": {
        "id": "view-in-github",
        "colab_type": "text"
      },
      "source": [
        "<a href=\"https://colab.research.google.com/github/GwynethCepeda/OOP-58001/blob/main/Operations_and_Expression_in_Python.ipynb\" target=\"_parent\"><img src=\"https://colab.research.google.com/assets/colab-badge.svg\" alt=\"Open In Colab\"/></a>"
      ]
    },
    {
      "cell_type": "markdown",
      "source": [
        "Boolean Operators"
      ],
      "metadata": {
        "id": "0x7C_DX7ZRHT"
      }
    },
    {
      "cell_type": "code",
      "source": [
        "print(10>9)\n",
        "print(10==9)\n",
        "print(10!=9)\n",
        "print(10<9)"
      ],
      "metadata": {
        "colab": {
          "base_uri": "https://localhost:8080/"
        },
        "id": "eQNWvXHjZXOb",
        "outputId": "437fb3d1-9b0d-4aa8-ecd3-4fccdd5d2bbb"
      },
      "execution_count": null,
      "outputs": [
        {
          "output_type": "stream",
          "name": "stdout",
          "text": [
            "True\n",
            "False\n",
            "True\n",
            "False\n"
          ]
        }
      ]
    },
    {
      "cell_type": "markdown",
      "source": [
        "bool() Function"
      ],
      "metadata": {
        "id": "s1K8JR87Zccq"
      }
    },
    {
      "cell_type": "code",
      "source": [
        "print(bool(\"Gwen\"))\n",
        "print(bool(19))\n",
        "print(bool([]))\n",
        "print(bool(0))\n",
        "print(bool(1))\n",
        "print(bool(None))\n",
        "print(bool(False))"
      ],
      "metadata": {
        "colab": {
          "base_uri": "https://localhost:8080/"
        },
        "id": "-FF5n86WZfNy",
        "outputId": "2883deb0-2f5e-4fc2-e5c3-c800af18b0bf"
      },
      "execution_count": null,
      "outputs": [
        {
          "output_type": "stream",
          "name": "stdout",
          "text": [
            "True\n",
            "True\n",
            "False\n",
            "False\n",
            "True\n",
            "False\n",
            "False\n"
          ]
        }
      ]
    },
    {
      "cell_type": "markdown",
      "source": [
        "Function Can return a Boolean"
      ],
      "metadata": {
        "id": "_S7n0oRdZhHK"
      }
    },
    {
      "cell_type": "code",
      "source": [
        "def myFunction():\n",
        "  return True\n",
        "\n",
        "print(myFunction())"
      ],
      "metadata": {
        "colab": {
          "base_uri": "https://localhost:8080/"
        },
        "id": "DzzWxA_jZk0j",
        "outputId": "c107084d-8505-4202-96b7-b15ddebf571d"
      },
      "execution_count": null,
      "outputs": [
        {
          "output_type": "stream",
          "name": "stdout",
          "text": [
            "True\n"
          ]
        }
      ]
    },
    {
      "cell_type": "code",
      "source": [
        "if myFunction():\n",
        "  print(\"YES!\")\n",
        "else:\n",
        "  print(\"NO!\")"
      ],
      "metadata": {
        "colab": {
          "base_uri": "https://localhost:8080/"
        },
        "id": "sn6av8t3ZuLa",
        "outputId": "d2549c13-aa4e-4063-d061-74f49ce3f37b"
      },
      "execution_count": null,
      "outputs": [
        {
          "output_type": "stream",
          "name": "stdout",
          "text": [
            "YES!\n"
          ]
        }
      ]
    },
    {
      "cell_type": "markdown",
      "source": [
        "Application 1"
      ],
      "metadata": {
        "id": "sThgw0XcZvAT"
      }
    },
    {
      "cell_type": "code",
      "source": [
        "print(10>9)\n",
        "\n",
        "a=60\n",
        "b=13\n",
        "print(a==b)\n",
        "print(a!=b)"
      ],
      "metadata": {
        "colab": {
          "base_uri": "https://localhost:8080/"
        },
        "id": "-gbWZ22DZw6z",
        "outputId": "7138ab60-02f5-4d96-8db9-41d08a33c3ac"
      },
      "execution_count": null,
      "outputs": [
        {
          "output_type": "stream",
          "name": "stdout",
          "text": [
            "True\n",
            "False\n",
            "True\n"
          ]
        }
      ]
    },
    {
      "cell_type": "markdown",
      "source": [
        "Python Operators"
      ],
      "metadata": {
        "id": "cxbeNNeYZyxK"
      }
    },
    {
      "cell_type": "code",
      "source": [
        "print(10+3)\n",
        "print(10 - 3)\n",
        "print(10*3)\n",
        "print(10/3)\n",
        "print(10 % 3)\n",
        "print(10//3)"
      ],
      "metadata": {
        "colab": {
          "base_uri": "https://localhost:8080/"
        },
        "id": "nMiiq8MCZ0Z7",
        "outputId": "296bd3fd-16a8-4647-bbc1-5c198722f5e4"
      },
      "execution_count": null,
      "outputs": [
        {
          "output_type": "stream",
          "name": "stdout",
          "text": [
            "13\n",
            "7\n",
            "30\n",
            "3.3333333333333335\n",
            "1\n",
            "3\n"
          ]
        }
      ]
    },
    {
      "cell_type": "markdown",
      "source": [
        "Bitwise Operators"
      ],
      "metadata": {
        "id": "oLLwktz4Z5oj"
      }
    },
    {
      "cell_type": "code",
      "source": [
        "#a=60, binary 0011 1100\n",
        "#b=13, binary 0000 1101\n",
        "\n",
        "print(a&b)\n",
        "print(a|b)\n",
        "print(a^b)\n",
        "print(a<<b)\n",
        "print(a>>b)"
      ],
      "metadata": {
        "colab": {
          "base_uri": "https://localhost:8080/"
        },
        "id": "pgiIwGprZ6FL",
        "outputId": "c52ae942-9d88-46ef-c954-904a27e52390"
      },
      "execution_count": null,
      "outputs": [
        {
          "output_type": "stream",
          "name": "stdout",
          "text": [
            "12\n",
            "61\n",
            "49\n",
            "491520\n",
            "0\n"
          ]
        }
      ]
    },
    {
      "cell_type": "markdown",
      "source": [
        "Application2\n",
        "\n",
        "Assignemnt Operators"
      ],
      "metadata": {
        "id": "9GlJO6HMZ8aq"
      }
    },
    {
      "cell_type": "code",
      "source": [
        "a+=3 #Same As a = a+3\n",
        "a-=3 #Same As a = a-3\n",
        "a*=3 #Same As a = a*3\n",
        "a/=3 #Same As a = a/3\n",
        "a%=3 #Same As a = a%3"
      ],
      "metadata": {
        "id": "c_UeW0SraGwb"
      },
      "execution_count": null,
      "outputs": []
    },
    {
      "cell_type": "markdown",
      "source": [
        "Logical Operators"
      ],
      "metadata": {
        "id": "aeWu1mUTaJb6"
      }
    },
    {
      "cell_type": "code",
      "source": [
        "k = True \n",
        "l = False \n",
        "print(k and l)\n",
        "print(k or l)\n",
        "print(not(k or l))"
      ],
      "metadata": {
        "colab": {
          "base_uri": "https://localhost:8080/"
        },
        "id": "TYFBOtsRaL1y",
        "outputId": "26cd3aa9-4312-44fc-e27b-ca60d0a31fcf"
      },
      "execution_count": null,
      "outputs": [
        {
          "output_type": "stream",
          "name": "stdout",
          "text": [
            "False\n",
            "True\n",
            "False\n"
          ]
        }
      ]
    },
    {
      "cell_type": "markdown",
      "source": [
        "Identity operators"
      ],
      "metadata": {
        "id": "GP7Cx5kLaOWL"
      }
    },
    {
      "cell_type": "code",
      "source": [
        "print(k is l)\n",
        "print(k is not l)"
      ],
      "metadata": {
        "colab": {
          "base_uri": "https://localhost:8080/"
        },
        "id": "ssGYXTYzaRfK",
        "outputId": "08869014-daa2-4e10-ec2b-0f9aad67f2c7"
      },
      "execution_count": null,
      "outputs": [
        {
          "output_type": "stream",
          "name": "stdout",
          "text": [
            "False\n",
            "True\n"
          ]
        }
      ]
    },
    {
      "cell_type": "markdown",
      "source": [
        "# ***Control Structure***"
      ],
      "metadata": {
        "id": "sZ2L9MKoaTSz"
      }
    },
    {
      "cell_type": "markdown",
      "source": [
        "If Statement"
      ],
      "metadata": {
        "id": "iZke7iPiaXeq"
      }
    },
    {
      "cell_type": "code",
      "source": [
        "v = 1\n",
        "z = 1\n",
        "\n",
        "if v<z:\n",
        "  print(\"1 is less than 2\")"
      ],
      "metadata": {
        "id": "FoUehL3naaBk"
      },
      "execution_count": null,
      "outputs": []
    },
    {
      "cell_type": "markdown",
      "source": [
        "Elif Statement"
      ],
      "metadata": {
        "id": "6nXoxWsTa4Hb"
      }
    },
    {
      "cell_type": "code",
      "source": [
        "if v<z:\n",
        "  print(\"v is less than z\")\n",
        "\n",
        "elif v!=z:\n",
        "  print(\"v is not z\")"
      ],
      "metadata": {
        "colab": {
          "base_uri": "https://localhost:8080/"
        },
        "id": "wWygAYkG0PeT",
        "outputId": "e5889a1b-01a7-4475-cb5c-09adc4ebf9ea"
      },
      "execution_count": null,
      "outputs": [
        {
          "output_type": "stream",
          "name": "stdout",
          "text": [
            "v is less than z\n"
          ]
        }
      ]
    },
    {
      "cell_type": "markdown",
      "source": [
        "Else Statement"
      ],
      "metadata": {
        "id": "E_UiU0k1bCeC"
      }
    },
    {
      "cell_type": "code",
      "source": [
        "number = int(input())\n",
        "\n",
        "if number>0:\n",
        "  print(\"Positive\")\n",
        "\n",
        "elif number<0:\n",
        "  print(\"negative\")\n",
        "\n",
        "else:\n",
        "  print(\"number is equal to zero\")"
      ],
      "metadata": {
        "colab": {
          "base_uri": "https://localhost:8080/"
        },
        "id": "-bLeEsawbd0D",
        "outputId": "61aa361e-b982-41a4-b191-4e29b9e5cefa"
      },
      "execution_count": null,
      "outputs": [
        {
          "output_type": "stream",
          "name": "stdout",
          "text": [
            "4\n",
            "Positive\n"
          ]
        }
      ]
    },
    {
      "cell_type": "markdown",
      "source": [
        "Application 3 - Develop a Phython program that will accept if a person is entitled to vote or not"
      ],
      "metadata": {
        "id": "EP6qPpkmbhkL"
      }
    },
    {
      "cell_type": "code",
      "source": [
        "age = int(input())\n",
        "\n",
        "if age >= 18:\n",
        "  print(\"You are qulifed to vote\")\n",
        "else:\n",
        "  print(\"you are not qualified to vote\")"
      ],
      "metadata": {
        "colab": {
          "base_uri": "https://localhost:8080/"
        },
        "id": "zv23URYUbkMq",
        "outputId": "7bd84ca9-6508-4bb6-bade-5d4aff9e7fe2"
      },
      "execution_count": null,
      "outputs": [
        {
          "output_type": "stream",
          "name": "stdout",
          "text": [
            "10\n",
            "you are not qualified to vote\n"
          ]
        }
      ]
    },
    {
      "cell_type": "markdown",
      "source": [
        "Nested if...Else"
      ],
      "metadata": {
        "id": "lmRTeIBHbu7S"
      }
    },
    {
      "cell_type": "code",
      "source": [
        "u = int(input())\n",
        "if u>10:\n",
        "  print(\"u is above 10\")\n",
        "  if u>20:\n",
        "    print(\"u is above 20\")\n",
        "    if u>30:\n",
        "      print(\"u is above 30\")\n",
        "      if u>40:\n",
        "        print(\"u is above 40\")\n",
        "        if u>50:\n",
        "          print(\"u is above 50\")\n",
        "        else:\n",
        "          print(\"u is below 50\")\n"
      ],
      "metadata": {
        "colab": {
          "base_uri": "https://localhost:8080/"
        },
        "id": "uYaW6AZCbxfy",
        "outputId": "eb644732-7764-4548-8c9e-345846f262bc"
      },
      "execution_count": null,
      "outputs": [
        {
          "output_type": "stream",
          "name": "stdout",
          "text": [
            "32\n",
            "u is above 10\n",
            "u is above 20\n",
            "u is above 30\n"
          ]
        }
      ]
    },
    {
      "cell_type": "markdown",
      "source": [
        "# ***Loop Structure***"
      ],
      "metadata": {
        "id": "eZsDnwwHb5Ha"
      }
    },
    {
      "cell_type": "code",
      "source": [
        "week = ['Sunday','Monday','Tuesday','Wednesday','Thursday','Friday','Saturday']\n",
        "Season=['rainy','sunny']\n",
        "for x in week:\n",
        "  for y in Season:\n",
        "    print(y,x)"
      ],
      "metadata": {
        "colab": {
          "base_uri": "https://localhost:8080/"
        },
        "id": "KBk-yAS9cBNS",
        "outputId": "10dde475-759b-4d75-b1ab-902d094a693a"
      },
      "execution_count": null,
      "outputs": [
        {
          "output_type": "stream",
          "name": "stdout",
          "text": [
            "rainy Sunday\n",
            "sunny Sunday\n",
            "rainy Monday\n",
            "sunny Monday\n",
            "rainy Tuesday\n",
            "sunny Tuesday\n",
            "rainy Wednesday\n",
            "sunny Wednesday\n",
            "rainy Thursday\n",
            "sunny Thursday\n",
            "rainy Friday\n",
            "sunny Friday\n",
            "rainy Saturday\n",
            "sunny Saturday\n"
          ]
        }
      ]
    },
    {
      "cell_type": "markdown",
      "source": [
        "The break statement"
      ],
      "metadata": {
        "id": "ZSeBmJOkcQ9T"
      }
    },
    {
      "cell_type": "code",
      "source": [
        "for x in week:\n",
        "  print(x)\n",
        "  if x == 'Thursday':\n",
        "    break"
      ],
      "metadata": {
        "colab": {
          "base_uri": "https://localhost:8080/"
        },
        "id": "M1VBP-XJcRob",
        "outputId": "fe475ae2-05d8-474b-e748-1e1bdda29dbc"
      },
      "execution_count": null,
      "outputs": [
        {
          "output_type": "stream",
          "name": "stdout",
          "text": [
            "Sunday\n",
            "Monday\n",
            "Tuesday\n",
            "Wednesday\n",
            "Thursday\n"
          ]
        }
      ]
    },
    {
      "cell_type": "markdown",
      "source": [
        "While loop"
      ],
      "metadata": {
        "id": "BwhrpBH1cTtG"
      }
    },
    {
      "cell_type": "code",
      "source": [
        "i=1\n",
        "\n",
        "while i<=6:\n",
        "  print(i)\n",
        "  i+=1"
      ],
      "metadata": {
        "colab": {
          "base_uri": "https://localhost:8080/"
        },
        "id": "ikLzzV8rcVVj",
        "outputId": "3f1c1da2-fc8c-474e-de0d-0f05f843fd86"
      },
      "execution_count": null,
      "outputs": [
        {
          "output_type": "stream",
          "name": "stdout",
          "text": [
            "1\n",
            "2\n",
            "3\n",
            "4\n",
            "5\n",
            "6\n"
          ]
        }
      ]
    },
    {
      "cell_type": "markdown",
      "source": [
        "Application 4 - Creat a phython program that displays numbers from 1 to 4 :"
      ],
      "metadata": {
        "id": "k1CRC4TXcb-S"
      }
    },
    {
      "cell_type": "code",
      "source": [
        "j=1\n",
        "while j<=4:\n",
        "  print(j)\n",
        "  j+=1"
      ],
      "metadata": {
        "colab": {
          "base_uri": "https://localhost:8080/"
        },
        "id": "B89wbjLZcfZL",
        "outputId": "19f4b28c-cbf2-4073-d98a-fdf83bbb4c65"
      },
      "execution_count": null,
      "outputs": [
        {
          "output_type": "stream",
          "name": "stdout",
          "text": [
            "1\n",
            "2\n",
            "3\n",
            "4\n"
          ]
        }
      ]
    },
    {
      "cell_type": "markdown",
      "source": [
        "Application 5 - Create a phython program that displays number 4 using while and break statement:"
      ],
      "metadata": {
        "id": "UQRjWVOnclPy"
      }
    },
    {
      "cell_type": "code",
      "source": [
        "j=1\n",
        "while j<=4:\n",
        "  j+=1\n",
        "  if j == 4:\n",
        "   print(j)"
      ],
      "metadata": {
        "colab": {
          "base_uri": "https://localhost:8080/"
        },
        "id": "oZAlgSxwcnuE",
        "outputId": "74711fff-11a1-43c0-f32a-a5ad3aee6205"
      },
      "execution_count": 5,
      "outputs": [
        {
          "output_type": "stream",
          "name": "stdout",
          "text": [
            "4\n"
          ]
        }
      ]
    }
  ]
}