{
  "nbformat": 4,
  "nbformat_minor": 0,
  "metadata": {
    "colab": {
      "name": "Midterm Exam.ipynb",
      "provenance": [],
      "authorship_tag": "ABX9TyNPgKKHx+3vHtxwOqUfdlPp",
      "include_colab_link": true
    },
    "kernelspec": {
      "name": "python3",
      "display_name": "Python 3"
    },
    "language_info": {
      "name": "python"
    }
  },
  "cells": [
    {
      "cell_type": "markdown",
      "metadata": {
        "id": "view-in-github",
        "colab_type": "text"
      },
      "source": [
        "<a href=\"https://colab.research.google.com/github/GwynethCepeda/OOP-58001/blob/main/Midterm_Exam.ipynb\" target=\"_parent\"><img src=\"https://colab.research.google.com/assets/colab-badge.svg\" alt=\"Open In Colab\"/></a>"
      ]
    },
    {
      "cell_type": "code",
      "execution_count": 2,
      "metadata": {
        "colab": {
          "base_uri": "https://localhost:8080/"
        },
        "id": "tJiw_1iViE8t",
        "outputId": "febfbb99-3740-4c20-880e-01707b4da764"
      },
      "outputs": [
        {
          "output_type": "stream",
          "name": "stdout",
          "text": [
            "Enter the temperature in Celsius: 5\n",
            "Enter the temperature in Kelvin: 10\n",
            "Enter the temperature in Fahrenheit: 5\n",
            "-15.0 Fahrenheit to Celsius\n",
            "-268.15 Kelvin to Celsius\n",
            "278.15 Kelvin\n",
            "41.0 Fahrenheit\n"
          ]
        }
      ],
      "source": [
        "def main():\n",
        "\n",
        "  \n",
        " class TemperatureConversion:\n",
        "  def __init__(self, temp=1):\n",
        "   self._temp = temp\n",
        "\n",
        " class CelsiusToFahrenheit(TemperatureConversion):\n",
        "  def conversion(self):\n",
        "   return (self._temp * 9) / 5 + 32\n",
        "\n",
        " class CelsiusToKelvin(TemperatureConversion):\n",
        "  def conversion(self):\n",
        "   return self._temp + 273.15\n",
        "\n",
        " class KelvinToCelsius(TemperatureConversion):\n",
        "   def conversion(self):\n",
        "     return self._temp - 273.15\n",
        "\n",
        " class FahrenheitToCelsius(TemperatureConversion):\n",
        "   def conversion(self):\n",
        "     return (self._temp - 32) * 5/9 \n",
        "\n",
        " tempInCelsius = float(input(\"Enter the temperature in Celsius: \"))\n",
        " tempInKelvin = float(input(\"Enter the temperature in Kelvin: \"))\n",
        " tempInFahrenheit = float(input(\"Enter the temperature in Fahrenheit: \"))\n",
        "\n",
        " convert = FahrenheitToCelsius(tempInFahrenheit)\n",
        " print(str(convert.conversion()) + \" Fahrenheit to Celsius\")\n",
        "\n",
        " convert = KelvinToCelsius(tempInFahrenheit)\n",
        " print(str(convert.conversion()) + \" Kelvin to Celsius\")\n",
        " \n",
        " convert = CelsiusToKelvin(tempInCelsius)\n",
        " print(str(convert.conversion()) + \" Kelvin\")\n",
        "\n",
        " convert = CelsiusToFahrenheit(tempInCelsius)\n",
        " print(str(convert.conversion()) + \" Fahrenheit\")\n",
        "\n",
        "\n",
        "main()"
      ]
    }
  ]
}