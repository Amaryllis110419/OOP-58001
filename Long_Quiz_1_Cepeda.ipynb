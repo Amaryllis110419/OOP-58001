{
  "nbformat": 4,
  "nbformat_minor": 0,
  "metadata": {
    "colab": {
      "name": "Long Quiz 1 Cepeda.ipynb",
      "provenance": [],
      "authorship_tag": "ABX9TyNq6jY37gdK0sVVXDQWQBy5",
      "include_colab_link": true
    },
    "kernelspec": {
      "name": "python3",
      "display_name": "Python 3"
    },
    "language_info": {
      "name": "python"
    }
  },
  "cells": [
    {
      "cell_type": "markdown",
      "metadata": {
        "id": "view-in-github",
        "colab_type": "text"
      },
      "source": [
        "<a href=\"https://colab.research.google.com/github/GwynethCepeda/OOP-58001/blob/main/Long_Quiz_1_Cepeda.ipynb\" target=\"_parent\"><img src=\"https://colab.research.google.com/assets/colab-badge.svg\" alt=\"Open In Colab\"/></a>"
      ]
    },
    {
      "cell_type": "markdown",
      "source": [
        "# Long Quiz 1 \n",
        "\n",
        "Cepeda, Gwyneth B.\n",
        "\n",
        "CpE 101"
      ],
      "metadata": {
        "id": "se1Po1aWGIMC"
      }
    },
    {
      "cell_type": "markdown",
      "source": [
        "1. Refer to the laboratory activity format in Week 1 folder.\n",
        "\n",
        "2. Write a Python program that asks the user to enter the radius of a circle and solve its area and perimeter.\n",
        "\n",
        "3. Create a class name Circle allowing you to build a circle with radius and pi attributes.\n",
        "\n",
        "4. Create a method Display() the perimeter and area using an instantiation of a class.\n",
        "\n",
        "5. Create a Perimeter() method to calculate the perimeter of the circle and an Area() method to calculate the area of ​​the circle."
      ],
      "metadata": {
        "id": "i-yJQ24cF0uB"
      }
    },
    {
      "cell_type": "code",
      "source": [
        "class Circle():\n",
        "  def __init__ (self, rad):\n",
        "    self.rad = int (rad)\n",
        "\n",
        "  def Perm (self):\n",
        "    return 2 * pi * self.rad\n",
        "  \n",
        "  def Area (self):\n",
        "    return pi * (self.rad ** 2)\n",
        "\n",
        "  def disp (self):\n",
        "    print (\"Perimeter of the circle =\", self.Perm())\n",
        "    print (\"Area of the circle =\", self.Area())\n",
        "\n",
        "pi = 3.14159\n",
        "pr = Circle (input())\n",
        "pr.disp()"
      ],
      "metadata": {
        "colab": {
          "base_uri": "https://localhost:8080/"
        },
        "id": "v5wDRfiiIt25",
        "outputId": "e721c0fa-7133-43f5-fb25-2945298f8d76"
      },
      "execution_count": 17,
      "outputs": [
        {
          "output_type": "stream",
          "name": "stdout",
          "text": [
            "19\n",
            "Perimeter of the circle = 119.38042\n",
            "Area of the circle = 1134.11399\n"
          ]
        }
      ]
    }
  ]
}