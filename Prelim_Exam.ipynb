{
  "nbformat": 4,
  "nbformat_minor": 0,
  "metadata": {
    "colab": {
      "name": "Prelim Exam.ipynb",
      "provenance": [],
      "authorship_tag": "ABX9TyMUNGYDRH63fb2lln4ANs3z",
      "include_colab_link": true
    },
    "kernelspec": {
      "name": "python3",
      "display_name": "Python 3"
    },
    "language_info": {
      "name": "python"
    }
  },
  "cells": [
    {
      "cell_type": "markdown",
      "metadata": {
        "id": "view-in-github",
        "colab_type": "text"
      },
      "source": [
        "<a href=\"https://colab.research.google.com/github/GwynethCepeda/OOP-58001/blob/main/Prelim_Exam.ipynb\" target=\"_parent\"><img src=\"https://colab.research.google.com/assets/colab-badge.svg\" alt=\"Open In Colab\"/></a>"
      ]
    },
    {
      "cell_type": "markdown",
      "source": [
        "Write a Python to display your full name, student number, age, and course\n",
        "Create a class named Student with attributes: Name, Student_No, Age, School, and Course\n",
        "Create an object name Myself and assign an instance for each attribute.\n",
        "Create a method Self () using an instantiation of a class.\n",
        "Insert your GitHub link \"Prelim Exam\" from your repository named \"OOP 58001\" "
      ],
      "metadata": {
        "id": "bNQVfbB_Fpa_"
      }
    },
    {
      "cell_type": "code",
      "source": [
        "class StudentInfo ():\n",
        "  def __init__ (self, FName, StudentID, Age, Course, School):\n",
        "    self.FName = FName\n",
        "    self.StudentID = StudentID\n",
        "    self.Age = Age\n",
        "    self.Course = Course\n",
        "    self.School = School\n",
        "    \n",
        "\n",
        "  def disp (self):\n",
        "    print (\"Name:\", self.FName)\n",
        "    print (\"Student ID:\", self.StudentID)\n",
        "    print (\"Age:\", self.Age, \"yrs old\")\n",
        "    print (\"Course:\", self.Course)\n",
        "    print (\"School:\", self.School)\n",
        "\n",
        "studN = StudentInfo (\"Gwyneth Cepeda\", 202110005, 18, \"BS in Computer Engineering\", \"Adamson University\")\n",
        "studN.disp()"
      ],
      "metadata": {
        "colab": {
          "base_uri": "https://localhost:8080/"
        },
        "id": "bCkKRXy9FJGS",
        "outputId": "4820cdf1-9102-4f95-ef0d-c81fa3b44573"
      },
      "execution_count": 16,
      "outputs": [
        {
          "output_type": "stream",
          "name": "stdout",
          "text": [
            "Name: Gwyneth Cepeda\n",
            "Student ID: 202110005\n",
            "Age: 18 yrs old\n",
            "Course: BS in Computer Engineering\n",
            "School: Adamson University\n"
          ]
        }
      ]
    }
  ]
}