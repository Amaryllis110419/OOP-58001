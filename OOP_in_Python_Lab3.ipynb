{
  "nbformat": 4,
  "nbformat_minor": 0,
  "metadata": {
    "colab": {
      "name": "OOP in Python Lab3.ipynb",
      "provenance": [],
      "authorship_tag": "ABX9TyP6RhEeVyc91W7W0HTd0W1o",
      "include_colab_link": true
    },
    "kernelspec": {
      "name": "python3",
      "display_name": "Python 3"
    },
    "language_info": {
      "name": "python"
    }
  },
  "cells": [
    {
      "cell_type": "markdown",
      "metadata": {
        "id": "view-in-github",
        "colab_type": "text"
      },
      "source": [
        "<a href=\"https://colab.research.google.com/github/GwynethCepeda/OOP-58001/blob/main/OOP_in_Python_Lab3.ipynb\" target=\"_parent\"><img src=\"https://colab.research.google.com/assets/colab-badge.svg\" alt=\"Open In Colab\"/></a>"
      ]
    },
    {
      "cell_type": "markdown",
      "source": [
        "# **Creating a Class**"
      ],
      "metadata": {
        "id": "L1XUTrB5kxtv"
      }
    },
    {
      "cell_type": "code",
      "source": [
        "class MyClass:\n",
        "  pass\n",
        "\n",
        "#to create a class without method"
      ],
      "metadata": {
        "id": "EDHa9sk0k4Kh"
      },
      "execution_count": 1,
      "outputs": []
    },
    {
      "cell_type": "code",
      "source": [
        "class MyClass:\n",
        "  x = 20"
      ],
      "metadata": {
        "id": "VGibKnb5lZWj"
      },
      "execution_count": 2,
      "outputs": []
    },
    {
      "cell_type": "markdown",
      "source": [
        "# **Demonstration**"
      ],
      "metadata": {
        "id": "3b-ub6hDlxZA"
      }
    },
    {
      "cell_type": "code",
      "source": [
        "class Car:\n",
        "  def __init__(self, name, color):\n",
        "      self.name = name\n",
        "      self.color = color\n",
        "\n",
        "  def description (self):\n",
        "    return \"the \" + (self.name) + \" car is \" + (self.color)\n",
        "\n",
        "  def display (self):\n",
        "    print (\"We can say that\", self.description())\n",
        "\n",
        "obj1 = Car (\"Benz\", \"black\")\n",
        "obj1.display()"
      ],
      "metadata": {
        "colab": {
          "base_uri": "https://localhost:8080/"
        },
        "id": "pDcWVOK6l6Io",
        "outputId": "979bc981-ae99-4fd1-9634-a91521552095"
      },
      "execution_count": 3,
      "outputs": [
        {
          "output_type": "stream",
          "name": "stdout",
          "text": [
            "We can say that the Benz car is black\n"
          ]
        }
      ]
    },
    {
      "cell_type": "code",
      "source": [
        "# Modifying an Object Property\n",
        "\n",
        "obj1.name = \"Mercedes Benz\"\n",
        "print (obj1.name)"
      ],
      "metadata": {
        "colab": {
          "base_uri": "https://localhost:8080/"
        },
        "id": "ogSL0wagnprX",
        "outputId": "e079d0ff-e1a9-46bb-a286-fe6caee064df"
      },
      "execution_count": 4,
      "outputs": [
        {
          "output_type": "stream",
          "name": "stdout",
          "text": [
            "Mercedes Benz\n"
          ]
        }
      ]
    },
    {
      "cell_type": "code",
      "source": [
        "# Deleting the object\n",
        "\n",
        "del obj1.color"
      ],
      "metadata": {
        "id": "qC8KoTeun0NX"
      },
      "execution_count": 5,
      "outputs": []
    },
    {
      "cell_type": "markdown",
      "source": [
        "# **Application 1**"
      ],
      "metadata": {
        "id": "k1QNOEhwoP8l"
      }
    },
    {
      "cell_type": "markdown",
      "source": [
        "Write a program to compute the area and perimeter of a rectangle."
      ],
      "metadata": {
        "id": "G853NrHRopIn"
      }
    },
    {
      "cell_type": "code",
      "source": [
        "class Rectangle:\n",
        "  def __init__(self, length, width):\n",
        "      self.length = length\n",
        "      self.width = width\n",
        "  \n",
        "  def Area (self):\n",
        "    return self.length * self.width\n",
        "\n",
        "  def Perimeter (self):\n",
        "    return 2 * (self.length + self.width)\n",
        "\n",
        "  def display (self):\n",
        "    print (\"The area of the rectangle is\", self.Area())\n",
        "    print (\"The perimeter of the rectangle is\", self.Perimeter())\n",
        "  \n",
        "pol = Rectangle (7 , 4.5)\n",
        "pol.display()"
      ],
      "metadata": {
        "colab": {
          "base_uri": "https://localhost:8080/"
        },
        "id": "pxDYgWVQoviy",
        "outputId": "e77e6122-4c3f-4950-e19c-72d43cd11185"
      },
      "execution_count": null,
      "outputs": [
        {
          "output_type": "stream",
          "name": "stdout",
          "text": [
            "The area of the rectangle is 31.5\n",
            "The perimeter of the rectangle is 23.0\n"
          ]
        }
      ]
    },
    {
      "cell_type": "markdown",
      "source": [
        "# **Application 2**"
      ],
      "metadata": {
        "id": "sI9HDZ6TqYgl"
      }
    },
    {
      "cell_type": "markdown",
      "source": [
        "Write a program to display a class name OOP_58001 with your student number and full name."
      ],
      "metadata": {
        "id": "paMOwGqNqdWV"
      }
    },
    {
      "cell_type": "code",
      "source": [
        "class OOP_58001:\n",
        "  def __init__(self, lname, fname, number):\n",
        "      self.lname = lname\n",
        "      self.fname = fname\n",
        "      self.number = number\n",
        "\n",
        "  def studname (self):\n",
        "    return self.fname + self.lname \n",
        "\n",
        "  def studnum (self):\n",
        "    return self.number\n",
        "\n",
        "  def display (self):\n",
        "    print (\"My name is\", self.studname())\n",
        "    print (\"My student number is\", self.studnum())\n",
        "\n",
        "student = OOP_58001 (\"Cepeda\", \"Gwyneth \", \"202110005\")\n",
        "student.display()"
      ],
      "metadata": {
        "colab": {
          "base_uri": "https://localhost:8080/"
        },
        "id": "7fDacy20qmmr",
        "outputId": "f105ca62-e96d-4720-ef65-c4d2bb4deb2b"
      },
      "execution_count": 6,
      "outputs": [
        {
          "output_type": "stream",
          "name": "stdout",
          "text": [
            "My name is Gwyneth Cepeda\n",
            "My student number is 202110005\n"
          ]
        }
      ]
    }
  ]
}