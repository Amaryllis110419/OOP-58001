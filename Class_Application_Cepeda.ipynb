{
  "nbformat": 4,
  "nbformat_minor": 0,
  "metadata": {
    "colab": {
      "name": "Class Application.ipynb",
      "provenance": [],
      "authorship_tag": "ABX9TyPNWMwgK5/bliKx1m9oBUdu",
      "include_colab_link": true
    },
    "kernelspec": {
      "name": "python3",
      "display_name": "Python 3"
    },
    "language_info": {
      "name": "python"
    }
  },
  "cells": [
    {
      "cell_type": "markdown",
      "metadata": {
        "id": "view-in-github",
        "colab_type": "text"
      },
      "source": [
        "<a href=\"https://colab.research.google.com/github/GwynethCepeda/OOP-58001/blob/main/Class_Application_Cepeda.ipynb\" target=\"_parent\"><img src=\"https://colab.research.google.com/assets/colab-badge.svg\" alt=\"Open In Colab\"/></a>"
      ]
    },
    {
      "cell_type": "markdown",
      "source": [
        "# **Class with Multiple Objects Application**\n"
      ],
      "metadata": {
        "id": "KSAK5WfiBUd-"
      }
    },
    {
      "cell_type": "markdown",
      "source": [
        "*   Create a Python program that displays the name of 3 students (Student 1, Student 2, Student 3) and their grades\n",
        "*  Create a class name \"Person\" and attributes - std1, std2, std3, pre, mid, fin\n",
        "*   Compute for the average grade of each term using Grade) method\n",
        "*   Information about student's grades must be hidden from others\n",
        "\n",
        "\n",
        "\n",
        "\n",
        "\n",
        "\n"
      ],
      "metadata": {
        "id": "PPu3AdWeBsh2"
      }
    },
    {
      "cell_type": "code",
      "source": [
        "import random\n",
        "\n",
        "class Person:\n",
        "  def __init__ (self, student, pre, mid, fin):\n",
        "    self.student = student\n",
        "    self.pre = pre *0.30\n",
        "    self.mid = mid *0.30\n",
        "    self.fin = fin *0.40\n",
        "\n",
        "  def Grade (self):\n",
        "    print (self.student, \"- Average of\", self.pre, \"in prelims\")\n",
        "    print (self.student, \"- Average of\", self.mid, \"in midterms\")\n",
        "    print (self.student, \"- Average of\", self.fin, \"in finals\")\n",
        "\n",
        "std1 = Person (\"Sakuragi\", random.randint(75,99), random.randint(75,99), random.randint(75,99))\n",
        "std2 = Person (\"Killua\", random.randint(75,99), random.randint(75,99), random.randint(75,99))\n",
        "std3 = Person (\"Luffy\", random.randint(75,99), random.randint(75,99), random.randint(75,99))\n",
        "\n",
        "std1.Grade()"
      ],
      "metadata": {
        "colab": {
          "base_uri": "https://localhost:8080/"
        },
        "id": "-9e_Ezp_rBmr",
        "outputId": "cff9629b-ddd1-435c-a21f-1e41d8b38b48"
      },
      "execution_count": 8,
      "outputs": [
        {
          "output_type": "stream",
          "name": "stdout",
          "text": [
            "Sakuragi - Average of 28.5 in prelims\n",
            "Sakuragi - Average of 27.9 in midterms\n",
            "Sakuragi - Average of 36.0 in finals\n"
          ]
        }
      ]
    }
  ]
}